{
 "cells": [
  {
   "cell_type": "markdown",
   "id": "5fac6a96",
   "metadata": {},
   "source": [
    "# Comparing downloads between Figshare and Digital Commons"
   ]
  },
  {
   "cell_type": "markdown",
   "id": "82079309",
   "metadata": {},
   "source": [
    "## Data collection \n",
    "\n",
    "- setup collections in Figshare and Digital Commons\n",
    "- records pending to be added to DC by school, randomly assign, control paper from different schools \n",
    "- \n",
    "\n",
    "## Method of analysis\n",
    "- summary the analysis to be done "
   ]
  },
  {
   "cell_type": "code",
   "execution_count": 8,
   "id": "70f53173",
   "metadata": {
    "scrolled": true
   },
   "outputs": [
    {
     "name": "stdout",
     "output_type": "stream",
     "text": [
      "                                          Identifier   IR  \\\n",
      "0  https://ink.library.smu.edu.sg/soss_research/3291  InK   \n",
      "1  https://ink.library.smu.edu.sg/lkcsb_research/...  InK   \n",
      "2  https://ink.library.smu.edu.sg/soss_research/3288  InK   \n",
      "\n",
      "                                               Title  Apr  May  Jun  July  \\\n",
      "0  Humanist but not radical: The educational phil...    9   11  245    16   \n",
      "1  Artificial intelligence as augmenting automati...   24   20   16    45   \n",
      "2  Digitalising endangered cultural heritage in S...   32   32   32    22   \n",
      "\n",
      "   Aug  Sep  Oct  Total  AugToOct  GS_avail uniq_PDF primary other comments  \n",
      "0   23   24   26    354        73      True     True    TRUE            NaN  \n",
      "1   47   39   66    257       152      True    False    TRUE            NaN  \n",
      "2   22   57  102    299       181      True     True    TRUE            NaN  \n"
     ]
    },
    {
     "data": {
      "text/plain": [
       "Identifier        object\n",
       "IR                object\n",
       "Title             object\n",
       "Apr                int64\n",
       "May                int64\n",
       "Jun                int64\n",
       "July               int64\n",
       "Aug                int64\n",
       "Sep                int64\n",
       "Oct                int64\n",
       "Total              int64\n",
       "AugToOct           int64\n",
       "GS_avail            bool\n",
       "uniq_PDF          object\n",
       "primary           object\n",
       "other comments    object\n",
       "dtype: object"
      ]
     },
     "execution_count": 8,
     "metadata": {},
     "output_type": "execute_result"
    }
   ],
   "source": [
    "#import libraries\n",
    "import pandas as pd\n",
    "from scipy import stats\n",
    "\n",
    "#import the csv data file\n",
    "df = pd.read_csv (r'C:\\Users\\dpdong\\Documents\\GitHub\\2021-IR-compare-data_Git\\DCvsFigshare-downloads-combined-v1.csv')\n",
    "\n",
    "#a preview of first 5 rows of the dataset\n",
    "print(df.head(3))\n",
    "df.dtypes\n"
   ]
  },
  {
   "cell_type": "markdown",
   "id": "c7d6a599",
   "metadata": {},
   "source": [
    "### Downloads comparison by platform"
   ]
  },
  {
   "cell_type": "code",
   "execution_count": null,
   "id": "cd8f3cfb",
   "metadata": {},
   "outputs": [],
   "source": [
    "#summary stats\n",
    "df[[\"IR\",\"Total\"]].groupby(\"IR\").describe()\n",
    "\n",
    "#code not used: df.groupby(\"IR\").mean()"
   ]
  },
  {
   "cell_type": "markdown",
   "id": "99aa1792",
   "metadata": {},
   "source": [
    "In order to see whether there is a statistically significant difference between download counts of Figshare and Digital Commons, we conducted T-test to compare the mean downloads for items in the two repositories. \n",
    "\n",
    "<b>Null Hypothesis H0</b>: There is no difference for the average paper downloads of Figshare and Digital Commons. \n",
    "\n",
    "<b>Alternative Hypothesis H1</b>: The average paper downloads differ between Figshare and Digital Commons. \n",
    "\n",
    "The <b>significance level</b> is set to be 0.05. "
   ]
  },
  {
   "cell_type": "code",
   "execution_count": null,
   "id": "a80d2fe8",
   "metadata": {
    "scrolled": true
   },
   "outputs": [],
   "source": [
    "#subsetting data\n",
    "dc = df.query('IR == \"InK\"')['Total']\n",
    "fig = df.query('IR == \"RDR\"')['Total']\n",
    "\n",
    "t_output = stats.ttest_ind (dc, fig, equal_var=False)\n",
    "display(t_output)\n"
   ]
  },
  {
   "cell_type": "markdown",
   "id": "91382263",
   "metadata": {},
   "source": [
    "The p-value is calculated to be 0.596. Therefore the Null Hypothesis is accepted, and we conclude that the there is no statistically significant difference in the download counts between the two platforms. \n"
   ]
  },
  {
   "cell_type": "markdown",
   "id": "a704bb4d",
   "metadata": {},
   "source": [
    "### Additional analysis on Google Scholar availability\n",
    "\n",
    "Further exploratory analysis has been done to explore if there is any interesting patterns depending on whether and how records are indexed by Google Scholar. \n",
    "\n",
    "#### 1. Download counts comparison between records indexed and not indexed by Google Scholar\n"
   ]
  },
  {
   "cell_type": "code",
   "execution_count": 25,
   "id": "62e8bd3a",
   "metadata": {},
   "outputs": [
    {
     "data": {
      "text/plain": [
       "Ttest_indResult(statistic=0.9990946794329939, pvalue=0.3218242664556237)"
      ]
     },
     "metadata": {},
     "output_type": "display_data"
    },
    {
     "data": {
      "text/plain": [
       "MannwhitneyuResult(statistic=581.5, pvalue=0.9704388586933024)"
      ]
     },
     "metadata": {},
     "output_type": "display_data"
    }
   ],
   "source": [
    "from scipy.stats import mannwhitneyu\n",
    "\n",
    "#check whether sample is normally distributed using Shapiro-Wilk test \n",
    "#subsetting data for downloads between August to October (only include data after fixing GS indexing issue for Figshare)\n",
    "n_GS=df.query('GS_avail == 0')['AugToOct']\n",
    "y_GS=df.query('GS_avail == 1')['AugToOct']\n",
    "\n",
    "#perform t-test\n",
    "ttest_GS = stats.ttest_ind (y_GS, n_GS, equal_var=False)\n",
    "display(ttest_GS)\n",
    "#perform Mann–Whitney U test (non-parametric test) as the sample size for n_GS is considered small. \n",
    "utest_GS = stats.mannwhitneyu (y_GS, n_GS)\n",
    "display(utest_GS)\n",
    "#both shows that the difference in downloads not significant\n"
   ]
  },
  {
   "cell_type": "raw",
   "id": "fceb97a6",
   "metadata": {},
   "source": [
    "From the results, it can be observed that there is no significant difference between downloads of records indexed by Google Scholar and that are not. \n",
    "[talk about the GS indexing issue and how it also supports the correlation here]"
   ]
  },
  {
   "cell_type": "markdown",
   "id": "fd561cfc",
   "metadata": {},
   "source": [
    "#### 2. Download counts comparison between records that provide unique PDF in Google Scholar (for records that are indexed by GS)"
   ]
  },
  {
   "cell_type": "code",
   "execution_count": 31,
   "id": "eaf11dd3",
   "metadata": {},
   "outputs": [
    {
     "data": {
      "text/html": [
       "<div>\n",
       "<style scoped>\n",
       "    .dataframe tbody tr th:only-of-type {\n",
       "        vertical-align: middle;\n",
       "    }\n",
       "\n",
       "    .dataframe tbody tr th {\n",
       "        vertical-align: top;\n",
       "    }\n",
       "\n",
       "    .dataframe thead tr th {\n",
       "        text-align: left;\n",
       "    }\n",
       "\n",
       "    .dataframe thead tr:last-of-type th {\n",
       "        text-align: right;\n",
       "    }\n",
       "</style>\n",
       "<table border=\"1\" class=\"dataframe\">\n",
       "  <thead>\n",
       "    <tr>\n",
       "      <th></th>\n",
       "      <th colspan=\"8\" halign=\"left\">Total</th>\n",
       "    </tr>\n",
       "    <tr>\n",
       "      <th></th>\n",
       "      <th>count</th>\n",
       "      <th>mean</th>\n",
       "      <th>std</th>\n",
       "      <th>min</th>\n",
       "      <th>25%</th>\n",
       "      <th>50%</th>\n",
       "      <th>75%</th>\n",
       "      <th>max</th>\n",
       "    </tr>\n",
       "    <tr>\n",
       "      <th>uniq_PDF</th>\n",
       "      <th></th>\n",
       "      <th></th>\n",
       "      <th></th>\n",
       "      <th></th>\n",
       "      <th></th>\n",
       "      <th></th>\n",
       "      <th></th>\n",
       "      <th></th>\n",
       "    </tr>\n",
       "  </thead>\n",
       "  <tbody>\n",
       "    <tr>\n",
       "      <th>False</th>\n",
       "      <td>43.0</td>\n",
       "      <td>31.395349</td>\n",
       "      <td>47.786300</td>\n",
       "      <td>0.0</td>\n",
       "      <td>6.00</td>\n",
       "      <td>16.0</td>\n",
       "      <td>35.50</td>\n",
       "      <td>257.0</td>\n",
       "    </tr>\n",
       "    <tr>\n",
       "      <th>True</th>\n",
       "      <td>34.0</td>\n",
       "      <td>98.794118</td>\n",
       "      <td>173.499416</td>\n",
       "      <td>4.0</td>\n",
       "      <td>16.75</td>\n",
       "      <td>40.0</td>\n",
       "      <td>90.75</td>\n",
       "      <td>934.0</td>\n",
       "    </tr>\n",
       "  </tbody>\n",
       "</table>\n",
       "</div>"
      ],
      "text/plain": [
       "         Total                                                       \n",
       "         count       mean         std  min    25%   50%    75%    max\n",
       "uniq_PDF                                                             \n",
       "False     43.0  31.395349   47.786300  0.0   6.00  16.0  35.50  257.0\n",
       "True      34.0  98.794118  173.499416  4.0  16.75  40.0  90.75  934.0"
      ]
     },
     "execution_count": 31,
     "metadata": {},
     "output_type": "execute_result"
    }
   ],
   "source": [
    "#use t-test to compare as N>30\n",
    "#subsetting data\n",
    "n_uniq = df.query('uniq_PDF == 0')['Total']\n",
    "y_uniq = df.query('uniq_PDF == 1')['Total']\n",
    "\n",
    "df[[\"uniq_PDF\",\"Total\"]].groupby(\"uniq_PDF\").describe()\n"
   ]
  },
  {
   "cell_type": "code",
   "execution_count": 29,
   "id": "a656b3d8",
   "metadata": {},
   "outputs": [
    {
     "data": {
      "text/plain": [
       "Ttest_indResult(statistic=2.2001087678993465, pvalue=0.03412649543963407)"
      ]
     },
     "metadata": {},
     "output_type": "display_data"
    }
   ],
   "source": [
    "ttest_uniq = stats.ttest_ind (y_uniq, n_uniq, equal_var=False)\n",
    "display(ttest_uniq)"
   ]
  },
  {
   "cell_type": "markdown",
   "id": "fae59e41",
   "metadata": {},
   "source": [
    "\n",
    "#### 3. Will records that are the primary record on Google Scholar receive higher downloads compared to the ones that are not? "
   ]
  },
  {
   "cell_type": "code",
   "execution_count": 42,
   "id": "52ca251b",
   "metadata": {},
   "outputs": [
    {
     "data": {
      "text/html": [
       "<div>\n",
       "<style scoped>\n",
       "    .dataframe tbody tr th:only-of-type {\n",
       "        vertical-align: middle;\n",
       "    }\n",
       "\n",
       "    .dataframe tbody tr th {\n",
       "        vertical-align: top;\n",
       "    }\n",
       "\n",
       "    .dataframe thead tr th {\n",
       "        text-align: left;\n",
       "    }\n",
       "\n",
       "    .dataframe thead tr:last-of-type th {\n",
       "        text-align: right;\n",
       "    }\n",
       "</style>\n",
       "<table border=\"1\" class=\"dataframe\">\n",
       "  <thead>\n",
       "    <tr>\n",
       "      <th></th>\n",
       "      <th colspan=\"8\" halign=\"left\">Total</th>\n",
       "    </tr>\n",
       "    <tr>\n",
       "      <th></th>\n",
       "      <th>count</th>\n",
       "      <th>mean</th>\n",
       "      <th>std</th>\n",
       "      <th>min</th>\n",
       "      <th>25%</th>\n",
       "      <th>50%</th>\n",
       "      <th>75%</th>\n",
       "      <th>max</th>\n",
       "    </tr>\n",
       "    <tr>\n",
       "      <th>primary</th>\n",
       "      <th></th>\n",
       "      <th></th>\n",
       "      <th></th>\n",
       "      <th></th>\n",
       "      <th></th>\n",
       "      <th></th>\n",
       "      <th></th>\n",
       "      <th></th>\n",
       "    </tr>\n",
       "  </thead>\n",
       "  <tbody>\n",
       "    <tr>\n",
       "      <th>FALSE</th>\n",
       "      <td>22.0</td>\n",
       "      <td>12.090909</td>\n",
       "      <td>11.363723</td>\n",
       "      <td>0.0</td>\n",
       "      <td>4.00</td>\n",
       "      <td>7.5</td>\n",
       "      <td>21.25</td>\n",
       "      <td>42.0</td>\n",
       "    </tr>\n",
       "    <tr>\n",
       "      <th>TRUE</th>\n",
       "      <td>52.0</td>\n",
       "      <td>82.461538</td>\n",
       "      <td>146.563573</td>\n",
       "      <td>1.0</td>\n",
       "      <td>13.75</td>\n",
       "      <td>37.5</td>\n",
       "      <td>79.50</td>\n",
       "      <td>934.0</td>\n",
       "    </tr>\n",
       "    <tr>\n",
       "      <th>not sure</th>\n",
       "      <td>3.0</td>\n",
       "      <td>51.666667</td>\n",
       "      <td>15.044379</td>\n",
       "      <td>36.0</td>\n",
       "      <td>44.50</td>\n",
       "      <td>53.0</td>\n",
       "      <td>59.50</td>\n",
       "      <td>66.0</td>\n",
       "    </tr>\n",
       "  </tbody>\n",
       "</table>\n",
       "</div>"
      ],
      "text/plain": [
       "         Total                                                        \n",
       "         count       mean         std   min    25%   50%    75%    max\n",
       "primary                                                               \n",
       "FALSE     22.0  12.090909   11.363723   0.0   4.00   7.5  21.25   42.0\n",
       "TRUE      52.0  82.461538  146.563573   1.0  13.75  37.5  79.50  934.0\n",
       "not sure   3.0  51.666667   15.044379  36.0  44.50  53.0  59.50   66.0"
      ]
     },
     "execution_count": 42,
     "metadata": {},
     "output_type": "execute_result"
    }
   ],
   "source": [
    "n_primary = df.query('primary == \"FALSE\"')['Total']\n",
    "y_primary = df.query('primary == \"TRUE\"')['Total']\n",
    "df[[\"primary\",\"Total\"]].groupby(\"primary\").describe()\n"
   ]
  },
  {
   "cell_type": "code",
   "execution_count": 43,
   "id": "b0e45313",
   "metadata": {},
   "outputs": [
    {
     "data": {
      "text/plain": [
       "Ttest_indResult(statistic=3.437979553995462, pvalue=0.001155883277678811)"
      ]
     },
     "metadata": {},
     "output_type": "display_data"
    }
   ],
   "source": [
    "#use t-test to compare, N=22, still ok \n",
    "ttest_primary = stats.ttest_ind (y_primary, n_primary, equal_var=False)\n",
    "display(ttest_primary)\n",
    "#result is significant - primary records receive more downloads "
   ]
  },
  {
   "cell_type": "code",
   "execution_count": 44,
   "id": "a405d8ec",
   "metadata": {},
   "outputs": [
    {
     "data": {
      "text/plain": [
       "MannwhitneyuResult(statistic=913.5, pvalue=5.465982925266728e-05)"
      ]
     },
     "metadata": {},
     "output_type": "display_data"
    }
   ],
   "source": [
    "#perform Mann–Whitney U test (non-parametric test) as the sample size for n_primary is considered small. \n",
    "utest_primary = stats.mannwhitneyu (y_primary, n_primary)\n",
    "display(utest_primary)"
   ]
  },
  {
   "cell_type": "markdown",
   "id": "7929e9f2",
   "metadata": {},
   "source": [
    "Both tests support that the difference between primary records and non-primary records are significant. "
   ]
  }
 ],
 "metadata": {
  "kernelspec": {
   "display_name": "Python 3 (ipykernel)",
   "language": "python",
   "name": "python3"
  },
  "language_info": {
   "codemirror_mode": {
    "name": "ipython",
    "version": 3
   },
   "file_extension": ".py",
   "mimetype": "text/x-python",
   "name": "python",
   "nbconvert_exporter": "python",
   "pygments_lexer": "ipython3",
   "version": "3.9.7"
  }
 },
 "nbformat": 4,
 "nbformat_minor": 5
}
