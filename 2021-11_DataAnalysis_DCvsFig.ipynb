{
 "cells": [
  {
   "cell_type": "markdown",
   "id": "50838d4e",
   "metadata": {},
   "source": [
    "# Comparing downloads between Figshare and Digital Commons"
   ]
  },
  {
   "cell_type": "markdown",
   "id": "4458c980",
   "metadata": {},
   "source": [
    "add some background about hte dataset here. "
   ]
  },
  {
   "cell_type": "code",
   "execution_count": null,
   "id": "70f53173",
   "metadata": {
    "scrolled": true
   },
   "outputs": [],
   "source": [
    "#import libraries\n",
    "import pandas as pd\n",
    "from scipy import stats\n",
    "\n",
    "#import the csv data file\n",
    "df = pd.read_csv (r'C:\\Users\\dpdong\\Documents\\GitHub\\2021-IR-compare-data_Git\\DCvsFigshare-downloads-combined-v1.csv')\n",
    "\n",
    "#a preview of first 5 rows of the dataset\n",
    "print(df.head(3))\n"
   ]
  },
  {
   "cell_type": "code",
   "execution_count": null,
   "id": "4b5e75be",
   "metadata": {},
   "outputs": [],
   "source": [
    "#summary stats\n",
    "df[[\"IR\",\"Total\"]].groupby(\"IR\").describe()\n",
    "\n",
    "#code not used#\n",
    "#df.groupby(\"IR\").mean()"
   ]
  },
  {
   "cell_type": "markdown",
   "id": "0d272f31",
   "metadata": {},
   "source": [
    "In order to see whether there is a statistically significant difference between download counts of Figshare and Digital Commons, we conducted T-test to compare the mean downloads for items in the two repositories. \n",
    "\n",
    "<b>Null Hypothesis H0</b>: There is no difference for the average paper downloads of Figshare and Digital Commons. \n",
    "\n",
    "<b>Alternative Hypothesis H1</b>: The average paper downloads differ between Figshare and Digital Commons. \n",
    "\n",
    "The <b>significance level</b> is set to be 0.05. "
   ]
  },
  {
   "cell_type": "code",
   "execution_count": null,
   "id": "a80d2fe8",
   "metadata": {
    "scrolled": true
   },
   "outputs": [],
   "source": [
    "#subsetting data\n",
    "dc = df.query('IR == \"InK\"')['Total']\n",
    "fig = df.query('IR == \"RDR\"')['Total']\n",
    "\n",
    "t_output = stats.ttest_ind (dc, fig, equal_var=False)\n",
    "display(t_output)\n",
    "\n",
    "\n"
   ]
  },
  {
   "cell_type": "markdown",
   "id": "d25e8689",
   "metadata": {},
   "source": [
    "The p-value is calculated to be 0.596. Therefore the Null Hypothesis is accepted, and we conclude that the there is no statistically significant difference in the download counts between the two platforms. \n"
   ]
  },
  {
   "cell_type": "markdown",
   "id": "5d5a4d5b",
   "metadata": {},
   "source": [
    "# analysis to be done\n",
    "1. whether GS availability makes a difference for RDR\n",
    "2. whether unique PDF in GS makes a difference - assumption being unique PDF higher downloads\n",
    "3. whether primary record in GS makes a difference - assumption primary records higher downloads \n"
   ]
  },
  {
   "cell_type": "code",
   "execution_count": null,
   "id": "2f90cd35",
   "metadata": {},
   "outputs": [],
   "source": []
  }
 ],
 "metadata": {
  "kernelspec": {
   "display_name": "Python 3 (ipykernel)",
   "language": "python",
   "name": "python3"
  },
  "language_info": {
   "codemirror_mode": {
    "name": "ipython",
    "version": 3
   },
   "file_extension": ".py",
   "mimetype": "text/x-python",
   "name": "python",
   "nbconvert_exporter": "python",
   "pygments_lexer": "ipython3",
   "version": "3.9.7"
  }
 },
 "nbformat": 4,
 "nbformat_minor": 5
}
